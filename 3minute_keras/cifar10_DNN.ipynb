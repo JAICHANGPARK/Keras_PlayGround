{
 "cells": [
  {
   "cell_type": "code",
   "execution_count": 1,
   "metadata": {},
   "outputs": [],
   "source": [
    "import numpy as np\n",
    "from keras import datasets\n",
    "from keras.utils import np_utils"
   ]
  },
  {
   "cell_type": "code",
   "execution_count": 3,
   "metadata": {},
   "outputs": [],
   "source": [
    "def Data_func():\n",
    "    (X_train, y_train), (X_test, y_test) = datasets.cifar10.load_data()\n",
    "    \n",
    "    Y_train = np_utils.to_categorical(y_train)\n",
    "    Y_test = np_utils.to_categorical(y_test)\n",
    "    \n",
    "    L,W,H,C = X_train.shape\n",
    "    X_train = X_train.reshape(-1, W*H*C)\n",
    "    X_test = X_test.reshape(-1, W*H*C)\n",
    "    \n",
    "    X_train = X_train / 255.0\n",
    "    X_test = X_test / 255.0\n",
    "    return (X_train, Y_train), (X_test, Y_test)"
   ]
  },
  {
   "cell_type": "code",
   "execution_count": 4,
   "metadata": {},
   "outputs": [],
   "source": [
    "from keras import layers, models"
   ]
  },
  {
   "cell_type": "code",
   "execution_count": 5,
   "metadata": {},
   "outputs": [],
   "source": [
    "class DNN(models.Sequential):\n",
    "    def __init__(self, Nin, Nh_l, Pd_l, Nout):\n",
    "        super().__init__()\n",
    "        \n",
    "        self.add(layers.Dense(Nh_l[0], activation='relu', input_shape = (Nin,) , name='Hidden-1'))\n",
    "        self.add(layers.Dropout(Pd_l[0]))\n",
    "        \n",
    "        self.add(layers.Dense(Nh_l[1], activation='relu', input_shape = (Nin,) , name='Hidden-2'))\n",
    "        self.add(layers.Dropout(Pd_l[1]))\n",
    "        \n",
    "        self.add(layers.Dense(Nout, activation='softmax'))\n",
    "        \n",
    "        self.compile(loss='categorical_crossentropy', optimizer='adam', metrics=['accuracy'])"
   ]
  },
  {
   "cell_type": "code",
   "execution_count": 7,
   "metadata": {},
   "outputs": [],
   "source": [
    "%matplotlib inline\n",
    "%load_ext autoreload \n",
    "%autoreload 2\n",
    "from importlib import reload"
   ]
  },
  {
   "cell_type": "code",
   "execution_count": 8,
   "metadata": {},
   "outputs": [],
   "source": [
    "import matplotlib.pyplot as plt\n",
    "import numpy as np\n",
    "\n",
    "import pandas as pd\n",
    "import os"
   ]
  },
  {
   "cell_type": "markdown",
   "metadata": {},
   "source": [
    "# Graph Tool"
   ]
  },
  {
   "cell_type": "code",
   "execution_count": 9,
   "metadata": {},
   "outputs": [],
   "source": [
    "import matplotlib\n",
    "\n",
    "def save_history_history(fname, history_history, fold=''):\n",
    "    np.save(os.path.join(fold, fname), history_history)\n",
    "\n",
    "\n",
    "def load_history_history(fname, fold=''):\n",
    "    history_history = np.load(os.path.join(fold, fname)).item(0)\n",
    "    return history_history\n",
    "\n",
    "\n",
    "def plot_acc(history, title=None):\n",
    "    # summarize history for accuracy\n",
    "    if not isinstance(history, dict):\n",
    "        history = history.history\n",
    "\n",
    "    plt.plot(history['acc'])\n",
    "    plt.plot(history['val_acc'])\n",
    "    if title is not None:\n",
    "        plt.title(title)\n",
    "    plt.ylabel('Accracy')\n",
    "    plt.xlabel('Epoch')\n",
    "    plt.legend(['Training data', 'Validation data'], loc=0)\n",
    "    # plt.show()\n",
    "\n",
    "\n",
    "def plot_loss(history, title=None):\n",
    "    # summarize history for loss\n",
    "    if not isinstance(history, dict):\n",
    "        history = history.history\n",
    "\n",
    "    plt.plot(history['loss'])\n",
    "    plt.plot(history['val_loss'])\n",
    "    if title is not None:\n",
    "        plt.title(title)\n",
    "    plt.ylabel('Loss')\n",
    "    plt.xlabel('Epoch')\n",
    "    plt.legend(['Training data', 'Validation data'], loc=0)\n",
    "    # plt.show()\n",
    "\n",
    "\n",
    "def plot_history(history):\n",
    "    plt.figure(figsize=(15, 5))\n",
    "    plt.subplot(1, 2, 1)\n",
    "    plot_acc(history)\n",
    "    plt.subplot(1, 2, 2)\n",
    "    plot_loss(history)\n",
    "\n",
    "    \n",
    "def plot_loss_acc(history):\n",
    "    plot_loss(history, '(a) Loss trajectory')\n",
    "    plt.show()            \n",
    "    plot_acc(history, '(b) Accracy trajectory')\n",
    "    plt.show()\n",
    "    \n",
    "    \n",
    "def plot_acc_loss(history):\n",
    "    plot_acc(history, '(a) Accracy trajectory')\n",
    "    plt.show()\n",
    "    plot_loss(history, '(b) Loss trajectory')\n",
    "    plt.show()            "
   ]
  },
  {
   "cell_type": "code",
   "execution_count": 10,
   "metadata": {},
   "outputs": [],
   "source": [
    "def main():\n",
    "    Nh_l = [100, 50]\n",
    "    Pd_l = [0.0 ,0.0]\n",
    "    number_of_class = 10\n",
    "    Nout = number_of_class\n",
    "    (X_train, Y_train), (X_test, Y_test) = Data_func()\n",
    "    model = DNN(X_train.shape[1], Nh_l, Pd_l, Nout)\n",
    "    history = model.fit(X_train, Y_train, epochs=10, batch_size=100, validation_split = 0.2)\n",
    "    performance_test = model.evaluate(X_test, Y_test, batch_size = 100)\n",
    "    print('Test Loss and Accuracy -> ', performance_test)\n",
    "    \n",
    "    plot_acc(history)\n",
    "    plt.show()\n",
    "    plot_loss(history)\n",
    "    plt.show()"
   ]
  },
  {
   "cell_type": "code",
   "execution_count": 11,
   "metadata": {
    "scrolled": false
   },
   "outputs": [
    {
     "name": "stdout",
     "output_type": "stream",
     "text": [
      "Downloading data from https://www.cs.toronto.edu/~kriz/cifar-10-python.tar.gz\n",
      "170500096/170498071 [==============================] - 118s 1us/step\n",
      "Train on 40000 samples, validate on 10000 samples\n",
      "Epoch 1/10\n",
      "40000/40000 [==============================] - 22s 562us/step - loss: 1.9502 - acc: 0.2962 - val_loss: 1.8515 - val_acc: 0.3447\n",
      "Epoch 2/10\n",
      "40000/40000 [==============================] - 6s 141us/step - loss: 1.7713 - acc: 0.3704 - val_loss: 1.7786 - val_acc: 0.3625\n",
      "Epoch 3/10\n",
      "40000/40000 [==============================] - 7s 186us/step - loss: 1.7035 - acc: 0.3943 - val_loss: 1.7303 - val_acc: 0.3915\n",
      "Epoch 4/10\n",
      "40000/40000 [==============================] - 6s 161us/step - loss: 1.6561 - acc: 0.4123 - val_loss: 1.6804 - val_acc: 0.4052\n",
      "Epoch 5/10\n",
      "40000/40000 [==============================] - 6s 147us/step - loss: 1.6058 - acc: 0.4303 - val_loss: 1.6229 - val_acc: 0.4296\n",
      "Epoch 6/10\n",
      "40000/40000 [==============================] - 6s 145us/step - loss: 1.5820 - acc: 0.4396 - val_loss: 1.6451 - val_acc: 0.4141\n",
      "Epoch 7/10\n",
      "40000/40000 [==============================] - 6s 145us/step - loss: 1.5628 - acc: 0.4429 - val_loss: 1.5923 - val_acc: 0.4336\n",
      "Epoch 8/10\n",
      "40000/40000 [==============================] - 5s 135us/step - loss: 1.5351 - acc: 0.4525 - val_loss: 1.5918 - val_acc: 0.4360\n",
      "Epoch 9/10\n",
      "40000/40000 [==============================] - 5s 137us/step - loss: 1.5086 - acc: 0.4617 - val_loss: 1.5733 - val_acc: 0.4440\n",
      "Epoch 10/10\n",
      "40000/40000 [==============================] - 5s 134us/step - loss: 1.4934 - acc: 0.4665 - val_loss: 1.5535 - val_acc: 0.4505\n",
      "10000/10000 [==============================] - 1s 74us/step\n",
      "Test Loss and Accuracy ->  [1.5171535682678223, 0.4646999973058701]\n"
     ]
    },
    {
     "data": {
      "image/png": "[encoded data removed]",
      "text/plain": [
       "<Figure size 432x288 with 1 Axes>"
      ]
     },
     "metadata": {},
     "output_type": "display_data"
    },
    {
     "data": {
      "image/png": "[encoded data removed]",
      "text/plain": [
       "<Figure size 432x288 with 1 Axes>"
      ]
     },
     "metadata": {},
     "output_type": "display_data"
    }
   ],
   "source": [
    "if __name__ == '__main__':\n",
    "    main()"
   ]
  },
  {
   "cell_type": "code",
   "execution_count": 12,
   "metadata": {},
   "outputs": [
    {
     "ename": "NameError",
     "evalue": "name 'model' is not defined",
     "output_type": "error",
     "traceback": [
      "\u001b[1;31m---------------------------------------------------------------------------\u001b[0m",
      "\u001b[1;31mNameError\u001b[0m                                 Traceback (most recent call last)",
      "\u001b[1;32m<ipython-input-12-ec847e49d269>\u001b[0m in \u001b[0;36m<module>\u001b[1;34m()\u001b[0m\n\u001b[0;32m      2\u001b[0m \u001b[1;32mfrom\u001b[0m \u001b[0mkeras\u001b[0m\u001b[1;33m.\u001b[0m\u001b[0mutils\u001b[0m\u001b[1;33m.\u001b[0m\u001b[0mvis_utils\u001b[0m \u001b[1;32mimport\u001b[0m \u001b[0mmodel_to_dot\u001b[0m\u001b[1;33m\u001b[0m\u001b[0m\n\u001b[0;32m      3\u001b[0m \u001b[1;33m\u001b[0m\u001b[0m\n\u001b[1;32m----> 4\u001b[1;33m \u001b[0mSVG\u001b[0m\u001b[1;33m(\u001b[0m\u001b[0mmodel_to_dot\u001b[0m\u001b[1;33m(\u001b[0m\u001b[0mmodel\u001b[0m\u001b[1;33m,\u001b[0m \u001b[0mshow_shapes\u001b[0m\u001b[1;33m=\u001b[0m\u001b[1;32mTrue\u001b[0m\u001b[1;33m)\u001b[0m\u001b[1;33m.\u001b[0m\u001b[0mcreate\u001b[0m\u001b[1;33m(\u001b[0m\u001b[0mprog\u001b[0m\u001b[1;33m=\u001b[0m\u001b[1;34m'dot'\u001b[0m\u001b[1;33m,\u001b[0m \u001b[0mformat\u001b[0m\u001b[1;33m=\u001b[0m\u001b[1;34m'svg'\u001b[0m\u001b[1;33m)\u001b[0m\u001b[1;33m)\u001b[0m\u001b[1;33m\u001b[0m\u001b[0m\n\u001b[0m",
      "\u001b[1;31mNameError\u001b[0m: name 'model' is not defined"
     ]
    }
   ],
   "source": [
    "from IPython.display import SVG\n",
    "from keras.utils.vis_utils import model_to_dot\n",
    "\n",
    "SVG(model_to_dot(model, show_shapes=True).create(prog='dot', format='svg'))"
   ]
  },
  {
   "cell_type": "code",
   "execution_count": null,
   "metadata": {},
   "outputs": [],
   "source": []
  }
 ],
 "metadata": {
  "kernelspec": {
   "display_name": "Python 3",
   "language": "python",
   "name": "python3"
  },
  "language_info": {
   "codemirror_mode": {
    "name": "ipython",
    "version": 3
   },
   "file_extension": ".py",
   "mimetype": "text/x-python",
   "name": "python",
   "nbconvert_exporter": "python",
   "pygments_lexer": "ipython3",
   "version": "3.5.2"
  }
 },
 "nbformat": 4,
 "nbformat_minor": 2
}
